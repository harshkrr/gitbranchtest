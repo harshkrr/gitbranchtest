{
  "nbformat": 4,
  "nbformat_minor": 0,
  "metadata": {
    "colab": {
      "name": "NLP.ipynb",
      "provenance": [],
      "collapsed_sections": [],
      "authorship_tag": "ABX9TyPTyX4LEl7XbGSolvRZgjft",
      "include_colab_link": true
    },
    "kernelspec": {
      "display_name": "Python 3",
      "name": "python3"
    },
    "language_info": {
      "name": "python"
    }
  },
  "cells": [
    {
      "cell_type": "markdown",
      "metadata": {
        "id": "view-in-github",
        "colab_type": "text"
      },
      "source": [
        "<a href=\"https://colab.research.google.com/github/harshkrr/gitbranchtest/blob/master/NLP.ipynb\" target=\"_parent\"><img src=\"https://colab.research.google.com/assets/colab-badge.svg\" alt=\"Open In Colab\"/></a>"
      ]
    },
    {
      "cell_type": "code",
      "metadata": {
        "id": "jPUaDWAKnsZS"
      },
      "source": [
        "import nltk"
      ],
      "execution_count": null,
      "outputs": []
    },
    {
      "cell_type": "code",
      "metadata": {
        "colab": {
          "base_uri": "https://localhost:8080/"
        },
        "id": "c8IRjzjznv6x",
        "outputId": "2af83604-e434-404a-9d85-449a6f880fd7"
      },
      "source": [
        "import sklearn\n",
        "print(sklearn.__version__)"
      ],
      "execution_count": null,
      "outputs": [
        {
          "name": "stdout",
          "output_type": "stream",
          "text": [
            "0.22.2.post1\n"
          ]
        }
      ]
    },
    {
      "cell_type": "markdown",
      "metadata": {
        "id": "W9JjegWtxgP2"
      },
      "source": [
        "## **Auto Summerizing Text**"
      ]
    },
    {
      "cell_type": "code",
      "metadata": {
        "id": "rrQNgYBoxkJf"
      },
      "source": [
        "import urllib3\n",
        "from bs4 import BeautifulSoup"
      ],
      "execution_count": null,
      "outputs": []
    },
    {
      "cell_type": "markdown",
      "metadata": {
        "id": "yC7KAt0Sr2QE"
      },
      "source": [
        "## **Vectorize text as a bag of words**"
      ]
    },
    {
      "cell_type": "code",
      "metadata": {
        "id": "Ktn-WKuwocOV"
      },
      "source": [
        "from sklearn.feature_extraction.text import CountVectorizer"
      ],
      "execution_count": null,
      "outputs": []
    },
    {
      "cell_type": "code",
      "metadata": {
        "id": "K_KnUEbiolkH"
      },
      "source": [
        "train_test = [\"A bird in han d is worth two in the bush.\",\n",
        "              \"Good things come to those who wait.\",\n",
        "              \"These watches cost $1500!\",\n",
        "              \"There are other fish in the sea.\",\n",
        "              \"The ball is in your court.\",\n",
        "              \"Mr. Smith goes to Washigton.\",\n",
        "              \"Doiggle Hower M.C.\"\n",
        "              ]\n",
        "count_vectorizer = CountVectorizer()"
      ],
      "execution_count": null,
      "outputs": []
    },
    {
      "cell_type": "code",
      "metadata": {
        "colab": {
          "base_uri": "https://localhost:8080/"
        },
        "id": "FgbvRyMApDFh",
        "outputId": "f00d9ebd-7836-44fe-876b-a4304a470efc"
      },
      "source": [
        "count_vectorizer.fit(train_test)"
      ],
      "execution_count": null,
      "outputs": [
        {
          "data": {
            "text/plain": [
              "CountVectorizer(analyzer='word', binary=False, decode_error='strict',\n",
              "                dtype=<class 'numpy.int64'>, encoding='utf-8', input='content',\n",
              "                lowercase=True, max_df=1.0, max_features=None, min_df=1,\n",
              "                ngram_range=(1, 1), preprocessor=None, stop_words=None,\n",
              "                strip_accents=None, token_pattern='(?u)\\\\b\\\\w\\\\w+\\\\b',\n",
              "                tokenizer=None, vocabulary=None)"
            ]
          },
          "execution_count": 6,
          "metadata": {},
          "output_type": "execute_result"
        }
      ]
    },
    {
      "cell_type": "code",
      "metadata": {
        "colab": {
          "base_uri": "https://localhost:8080/"
        },
        "id": "zuMFHEFypTeE",
        "outputId": "ae5e627f-c4b7-476f-a509-74d91f62c2c8"
      },
      "source": [
        "count_vectorizer.get_feature_names()"
      ],
      "execution_count": null,
      "outputs": [
        {
          "data": {
            "text/plain": [
              "['1500',\n",
              " 'are',\n",
              " 'ball',\n",
              " 'bird',\n",
              " 'bush',\n",
              " 'come',\n",
              " 'cost',\n",
              " 'court',\n",
              " 'doiggle',\n",
              " 'fish',\n",
              " 'goes',\n",
              " 'good',\n",
              " 'han',\n",
              " 'hower',\n",
              " 'in',\n",
              " 'is',\n",
              " 'mr',\n",
              " 'other',\n",
              " 'sea',\n",
              " 'smith',\n",
              " 'the',\n",
              " 'there',\n",
              " 'these',\n",
              " 'things',\n",
              " 'those',\n",
              " 'to',\n",
              " 'two',\n",
              " 'wait',\n",
              " 'washigton',\n",
              " 'watches',\n",
              " 'who',\n",
              " 'worth',\n",
              " 'your']"
            ]
          },
          "execution_count": 7,
          "metadata": {},
          "output_type": "execute_result"
        }
      ]
    },
    {
      "cell_type": "code",
      "metadata": {
        "id": "6NdxgSDgpnoM"
      },
      "source": [
        "count_vectorizer.get_stop_words()"
      ],
      "execution_count": null,
      "outputs": []
    },
    {
      "cell_type": "code",
      "metadata": {
        "colab": {
          "base_uri": "https://localhost:8080/"
        },
        "id": "Qi2HyC59pwBc",
        "outputId": "54d37b99-9857-45b8-fd2e-885e015ff11f"
      },
      "source": [
        "count_vectorizer.vocabulary_"
      ],
      "execution_count": null,
      "outputs": [
        {
          "data": {
            "text/plain": [
              "{'1500': 0,\n",
              " 'are': 1,\n",
              " 'ball': 2,\n",
              " 'bird': 3,\n",
              " 'bush': 4,\n",
              " 'come': 5,\n",
              " 'cost': 6,\n",
              " 'court': 7,\n",
              " 'doiggle': 8,\n",
              " 'fish': 9,\n",
              " 'goes': 10,\n",
              " 'good': 11,\n",
              " 'han': 12,\n",
              " 'hower': 13,\n",
              " 'in': 14,\n",
              " 'is': 15,\n",
              " 'mr': 16,\n",
              " 'other': 17,\n",
              " 'sea': 18,\n",
              " 'smith': 19,\n",
              " 'the': 20,\n",
              " 'there': 21,\n",
              " 'these': 22,\n",
              " 'things': 23,\n",
              " 'those': 24,\n",
              " 'to': 25,\n",
              " 'two': 26,\n",
              " 'wait': 27,\n",
              " 'washigton': 28,\n",
              " 'watches': 29,\n",
              " 'who': 30,\n",
              " 'worth': 31,\n",
              " 'your': 32}"
            ]
          },
          "execution_count": 9,
          "metadata": {},
          "output_type": "execute_result"
        }
      ]
    },
    {
      "cell_type": "code",
      "metadata": {
        "id": "nOrSMYmSp1DM"
      },
      "source": [
        "transformed_vector = count_vectorizer.transform(train_test)"
      ],
      "execution_count": null,
      "outputs": []
    },
    {
      "cell_type": "code",
      "metadata": {
        "colab": {
          "base_uri": "https://localhost:8080/"
        },
        "id": "UiMuRIAbqI5c",
        "outputId": "fdc025ea-5ad1-4561-deab-5f6d99c3d162"
      },
      "source": [
        "print(transformed_vector.toarray())"
      ],
      "execution_count": null,
      "outputs": [
        {
          "name": "stdout",
          "output_type": "stream",
          "text": [
            "[[0 0 0 1 1 0 0 0 0 0 0 0 1 0 2 1 0 0 0 0 1 0 0 0 0 0 1 0 0 0 0 1 0]\n",
            " [0 0 0 0 0 1 0 0 0 0 0 1 0 0 0 0 0 0 0 0 0 0 0 1 1 1 0 1 0 0 1 0 0]\n",
            " [1 0 0 0 0 0 1 0 0 0 0 0 0 0 0 0 0 0 0 0 0 0 1 0 0 0 0 0 0 1 0 0 0]\n",
            " [0 1 0 0 0 0 0 0 0 1 0 0 0 0 1 0 0 1 1 0 1 1 0 0 0 0 0 0 0 0 0 0 0]\n",
            " [0 0 1 0 0 0 0 1 0 0 0 0 0 0 1 1 0 0 0 0 1 0 0 0 0 0 0 0 0 0 0 0 1]\n",
            " [0 0 0 0 0 0 0 0 0 0 1 0 0 0 0 0 1 0 0 1 0 0 0 0 0 1 0 0 1 0 0 0 0]\n",
            " [0 0 0 0 0 0 0 0 1 0 0 0 0 1 0 0 0 0 0 0 0 0 0 0 0 0 0 0 0 0 0 0 0]]\n"
          ]
        }
      ]
    },
    {
      "cell_type": "code",
      "metadata": {
        "colab": {
          "base_uri": "https://localhost:8080/"
        },
        "id": "jMtfED3MqVj0",
        "outputId": "95ba4bcf-352e-4331-a9b9-d4beaf8350cc"
      },
      "source": [
        "count_vectorizer.inverse_transform(transformed_vector)"
      ],
      "execution_count": null,
      "outputs": [
        {
          "data": {
            "text/plain": [
              "[array(['bird', 'bush', 'han', 'in', 'is', 'the', 'two', 'worth'],\n",
              "       dtype='<U9'),\n",
              " array(['come', 'good', 'things', 'those', 'to', 'wait', 'who'],\n",
              "       dtype='<U9'),\n",
              " array(['1500', 'cost', 'these', 'watches'], dtype='<U9'),\n",
              " array(['are', 'fish', 'in', 'other', 'sea', 'the', 'there'], dtype='<U9'),\n",
              " array(['ball', 'court', 'in', 'is', 'the', 'your'], dtype='<U9'),\n",
              " array(['goes', 'mr', 'smith', 'to', 'washigton'], dtype='<U9'),\n",
              " array(['doiggle', 'hower'], dtype='<U9')]"
            ]
          },
          "execution_count": 12,
          "metadata": {},
          "output_type": "execute_result"
        }
      ]
    },
    {
      "cell_type": "markdown",
      "metadata": {
        "id": "euVXvsW5rpW2"
      },
      "source": [
        "## **Vectorize text as a bag of n grams**"
      ]
    },
    {
      "cell_type": "code",
      "metadata": {
        "id": "Eup5KI3yrrxu"
      },
      "source": [
        "n_gram_vectorizer = CountVectorizer(ngram_range=(2,2))"
      ],
      "execution_count": null,
      "outputs": []
    },
    {
      "cell_type": "code",
      "metadata": {
        "id": "EF175-YfsFwo"
      },
      "source": [
        "transformed_vector_n = n_gram_vectorizer.fit_transform(train_test)"
      ],
      "execution_count": null,
      "outputs": []
    },
    {
      "cell_type": "code",
      "metadata": {
        "colab": {
          "base_uri": "https://localhost:8080/"
        },
        "id": "bUd1gib7sTSE",
        "outputId": "5185954d-891b-4404-84fa-eb75c820318b"
      },
      "source": [
        "n_gram_vectorizer.vocabulary_"
      ],
      "execution_count": null,
      "outputs": [
        {
          "data": {
            "text/plain": [
              "{'are other': 0,\n",
              " 'ball is': 1,\n",
              " 'bird in': 2,\n",
              " 'come to': 3,\n",
              " 'cost 1500': 4,\n",
              " 'doiggle hower': 5,\n",
              " 'fish in': 6,\n",
              " 'goes to': 7,\n",
              " 'good things': 8,\n",
              " 'han is': 9,\n",
              " 'in han': 10,\n",
              " 'in the': 11,\n",
              " 'in your': 12,\n",
              " 'is in': 13,\n",
              " 'is worth': 14,\n",
              " 'mr smith': 15,\n",
              " 'other fish': 16,\n",
              " 'smith goes': 17,\n",
              " 'the ball': 18,\n",
              " 'the bush': 19,\n",
              " 'the sea': 20,\n",
              " 'there are': 21,\n",
              " 'these watches': 22,\n",
              " 'things come': 23,\n",
              " 'those who': 24,\n",
              " 'to those': 25,\n",
              " 'to washigton': 26,\n",
              " 'two in': 27,\n",
              " 'watches cost': 28,\n",
              " 'who wait': 29,\n",
              " 'worth two': 30,\n",
              " 'your court': 31}"
            ]
          },
          "execution_count": 15,
          "metadata": {},
          "output_type": "execute_result"
        }
      ]
    },
    {
      "cell_type": "code",
      "metadata": {
        "colab": {
          "base_uri": "https://localhost:8080/"
        },
        "id": "nX7BsP6gsYGM",
        "outputId": "9aef7550-9d2d-4227-bc2f-b5d61dc621c0"
      },
      "source": [
        "transformed_vector_n.toarray()"
      ],
      "execution_count": null,
      "outputs": [
        {
          "data": {
            "text/plain": [
              "array([[0, 0, 1, 0, 0, 0, 0, 0, 0, 1, 1, 1, 0, 0, 1, 0, 0, 0, 0, 1, 0, 0,\n",
              "        0, 0, 0, 0, 0, 1, 0, 0, 1, 0],\n",
              "       [0, 0, 0, 1, 0, 0, 0, 0, 1, 0, 0, 0, 0, 0, 0, 0, 0, 0, 0, 0, 0, 0,\n",
              "        0, 1, 1, 1, 0, 0, 0, 1, 0, 0],\n",
              "       [0, 0, 0, 0, 1, 0, 0, 0, 0, 0, 0, 0, 0, 0, 0, 0, 0, 0, 0, 0, 0, 0,\n",
              "        1, 0, 0, 0, 0, 0, 1, 0, 0, 0],\n",
              "       [1, 0, 0, 0, 0, 0, 1, 0, 0, 0, 0, 1, 0, 0, 0, 0, 1, 0, 0, 0, 1, 1,\n",
              "        0, 0, 0, 0, 0, 0, 0, 0, 0, 0],\n",
              "       [0, 1, 0, 0, 0, 0, 0, 0, 0, 0, 0, 0, 1, 1, 0, 0, 0, 0, 1, 0, 0, 0,\n",
              "        0, 0, 0, 0, 0, 0, 0, 0, 0, 1],\n",
              "       [0, 0, 0, 0, 0, 0, 0, 1, 0, 0, 0, 0, 0, 0, 0, 1, 0, 1, 0, 0, 0, 0,\n",
              "        0, 0, 0, 0, 1, 0, 0, 0, 0, 0],\n",
              "       [0, 0, 0, 0, 0, 1, 0, 0, 0, 0, 0, 0, 0, 0, 0, 0, 0, 0, 0, 0, 0, 0,\n",
              "        0, 0, 0, 0, 0, 0, 0, 0, 0, 0]])"
            ]
          },
          "execution_count": 16,
          "metadata": {},
          "output_type": "execute_result"
        }
      ]
    },
    {
      "cell_type": "code",
      "metadata": {
        "id": "RsaQ76c5smc6"
      },
      "source": [
        "from nltk import bigrams\n",
        "from nltk import trigrams\n",
        "from nltk.tokenize import word_tokenize"
      ],
      "execution_count": null,
      "outputs": []
    },
    {
      "cell_type": "markdown",
      "metadata": {
        "id": "aXrXd3NhvQli"
      },
      "source": [
        "## **Bag of Words using TFIDF**"
      ]
    },
    {
      "cell_type": "code",
      "metadata": {
        "id": "kCkvdXmYtisb"
      },
      "source": [
        ""
      ],
      "execution_count": null,
      "outputs": []
    },
    {
      "cell_type": "code",
      "metadata": {
        "id": "kj-jpcc3twp7"
      },
      "source": [
        ""
      ],
      "execution_count": null,
      "outputs": []
    },
    {
      "cell_type": "markdown",
      "metadata": {
        "id": "KQF_WxsGrWS8"
      },
      "source": [
        "## **STOP WORD REMOVAL**"
      ]
    },
    {
      "cell_type": "code",
      "metadata": {
        "id": "cVGHsg3Fq-GW"
      },
      "source": [
        "import nltk\n",
        "from nltk import word_tokenize\n",
        "from nltk.corpus import stopwords"
      ],
      "execution_count": null,
      "outputs": []
    },
    {
      "cell_type": "code",
      "metadata": {
        "colab": {
          "base_uri": "https://localhost:8080/"
        },
        "id": "lW-jpmuctbtD",
        "outputId": "1f4efbeb-51d2-4b1a-90d8-f3052810cf14"
      },
      "source": [
        "nltk.download('stopwords')"
      ],
      "execution_count": null,
      "outputs": [
        {
          "name": "stdout",
          "output_type": "stream",
          "text": [
            "[nltk_data] Downloading package stopwords to /root/nltk_data...\n",
            "[nltk_data]   Unzipping corpora/stopwords.zip.\n"
          ]
        },
        {
          "data": {
            "text/plain": [
              "True"
            ]
          },
          "execution_count": 19,
          "metadata": {},
          "output_type": "execute_result"
        }
      ]
    },
    {
      "cell_type": "code",
      "metadata": {
        "colab": {
          "base_uri": "https://localhost:8080/"
        },
        "id": "Fa5UI30_r2-F",
        "outputId": "7ea33d6c-54a9-4c13-ea53-4cd5fa060d76"
      },
      "source": [
        "print(stopwords.fileids())"
      ],
      "execution_count": null,
      "outputs": [
        {
          "name": "stdout",
          "output_type": "stream",
          "text": [
            "['arabic', 'azerbaijani', 'danish', 'dutch', 'english', 'finnish', 'french', 'german', 'greek', 'hungarian', 'indonesian', 'italian', 'kazakh', 'nepali', 'norwegian', 'portuguese', 'romanian', 'russian', 'slovene', 'spanish', 'swedish', 'tajik', 'turkish']\n"
          ]
        }
      ]
    },
    {
      "cell_type": "code",
      "metadata": {
        "colab": {
          "base_uri": "https://localhost:8080/"
        },
        "id": "iJfirYrwsoo9",
        "outputId": "3bddc3ca-18cf-4752-cc21-d9e89fd1b44b"
      },
      "source": [
        "print(stopwords.words('english'))"
      ],
      "execution_count": null,
      "outputs": [
        {
          "name": "stdout",
          "output_type": "stream",
          "text": [
            "['i', 'me', 'my', 'myself', 'we', 'our', 'ours', 'ourselves', 'you', \"you're\", \"you've\", \"you'll\", \"you'd\", 'your', 'yours', 'yourself', 'yourselves', 'he', 'him', 'his', 'himself', 'she', \"she's\", 'her', 'hers', 'herself', 'it', \"it's\", 'its', 'itself', 'they', 'them', 'their', 'theirs', 'themselves', 'what', 'which', 'who', 'whom', 'this', 'that', \"that'll\", 'these', 'those', 'am', 'is', 'are', 'was', 'were', 'be', 'been', 'being', 'have', 'has', 'had', 'having', 'do', 'does', 'did', 'doing', 'a', 'an', 'the', 'and', 'but', 'if', 'or', 'because', 'as', 'until', 'while', 'of', 'at', 'by', 'for', 'with', 'about', 'against', 'between', 'into', 'through', 'during', 'before', 'after', 'above', 'below', 'to', 'from', 'up', 'down', 'in', 'out', 'on', 'off', 'over', 'under', 'again', 'further', 'then', 'once', 'here', 'there', 'when', 'where', 'why', 'how', 'all', 'any', 'both', 'each', 'few', 'more', 'most', 'other', 'some', 'such', 'no', 'nor', 'not', 'only', 'own', 'same', 'so', 'than', 'too', 'very', 's', 't', 'can', 'will', 'just', 'don', \"don't\", 'should', \"should've\", 'now', 'd', 'll', 'm', 'o', 're', 've', 'y', 'ain', 'aren', \"aren't\", 'couldn', \"couldn't\", 'didn', \"didn't\", 'doesn', \"doesn't\", 'hadn', \"hadn't\", 'hasn', \"hasn't\", 'haven', \"haven't\", 'isn', \"isn't\", 'ma', 'mightn', \"mightn't\", 'mustn', \"mustn't\", 'needn', \"needn't\", 'shan', \"shan't\", 'shouldn', \"shouldn't\", 'wasn', \"wasn't\", 'weren', \"weren't\", 'won', \"won't\", 'wouldn', \"wouldn't\"]\n"
          ]
        }
      ]
    },
    {
      "cell_type": "code",
      "metadata": {
        "id": "bzkvcXmdtr_N"
      },
      "source": [
        "text_array = [\"A bird in hand is worth two in the bush.\",\n",
        "              \"Good things come to those who wait.\",\n",
        "              \"These watches cost $1500!\",\n",
        "              \"There are other fish in the sea.\",\n",
        "              \"The ball is in your court.\",\n",
        "              \"Mr. Smith goes to Washigton.\",\n",
        "              \"Doiggle Hower M.C.\"\n",
        "              ]"
      ],
      "execution_count": null,
      "outputs": []
    },
    {
      "cell_type": "code",
      "metadata": {
        "id": "bLQuTzTHtzSt"
      },
      "source": [
        "# join all the sentences\n",
        "text = \" \".join(text_array)"
      ],
      "execution_count": null,
      "outputs": []
    },
    {
      "cell_type": "code",
      "metadata": {
        "colab": {
          "base_uri": "https://localhost:8080/"
        },
        "id": "LO6JWbTeucYr",
        "outputId": "2f19209e-42a9-4a72-a1eb-c3ef083080b2"
      },
      "source": [
        "nltk.download('punkt')"
      ],
      "execution_count": null,
      "outputs": [
        {
          "name": "stdout",
          "output_type": "stream",
          "text": [
            "[nltk_data] Downloading package punkt to /root/nltk_data...\n",
            "[nltk_data]   Unzipping tokenizers/punkt.zip.\n"
          ]
        },
        {
          "data": {
            "text/plain": [
              "True"
            ]
          },
          "execution_count": 24,
          "metadata": {},
          "output_type": "execute_result"
        }
      ]
    },
    {
      "cell_type": "code",
      "metadata": {
        "id": "alzmPt_Kt3Yt"
      },
      "source": [
        "word_tokens = word_tokenize(text)"
      ],
      "execution_count": null,
      "outputs": []
    },
    {
      "cell_type": "code",
      "metadata": {
        "colab": {
          "base_uri": "https://localhost:8080/"
        },
        "id": "V_xtF8cNuK0d",
        "outputId": "6c59a91b-97dd-4ec6-a2cf-a9956df7332c"
      },
      "source": [
        "stop_words = set(stopwords.words('english'))\n",
        "\n",
        "filtered_words = []\n",
        "\n",
        "for word in word_tokens:\n",
        "  if word not in stop_words:\n",
        "    filtered_words.append(word)\n",
        "\n",
        "print(filtered_words)"
      ],
      "execution_count": null,
      "outputs": [
        {
          "name": "stdout",
          "output_type": "stream",
          "text": [
            "['A', 'bird', 'hand', 'worth', 'two', 'bush', '.', 'Good', 'things', 'come', 'wait', '.', 'These', 'watches', 'cost', '$', '1500', '!', 'There', 'fish', 'sea', '.', 'The', 'ball', 'court', '.', 'Mr.', 'Smith', 'goes', 'Washigton', '.', 'Doiggle', 'Hower', 'M.C', '.']\n"
          ]
        }
      ]
    },
    {
      "cell_type": "code",
      "metadata": {
        "id": "ImVHCYQWu4s0"
      },
      "source": [
        "with open (\"./file.txt\", \"w\") as f:\n",
        "  for word in filtered_words:\n",
        "    f.write(word)\n",
        "    f.write(' ')"
      ],
      "execution_count": null,
      "outputs": []
    },
    {
      "cell_type": "code",
      "metadata": {
        "colab": {
          "base_uri": "https://localhost:8080/"
        },
        "id": "4SQSyocWvqVR",
        "outputId": "df36be98-f1d3-4a75-9b95-a61f9fb1908c"
      },
      "source": [
        "with open(\"./file.txt\", \"r\") as f:\n",
        "  file_contents = f.read()\n",
        "\n",
        "print(file_contents)"
      ],
      "execution_count": null,
      "outputs": [
        {
          "name": "stdout",
          "output_type": "stream",
          "text": [
            "A bird hand worth two bush . Good things come wait . These watches cost $ 1500 ! There fish sea . The ball court . Mr. Smith goes Washigton . Doiggle Hower M.C . \n"
          ]
        }
      ]
    },
    {
      "cell_type": "code",
      "metadata": {
        "colab": {
          "base_uri": "https://localhost:8080/"
        },
        "id": "Qd4jUUCbwNJN",
        "outputId": "1172020f-e382-4aa3-9948-4ece060be8ce"
      },
      "source": [
        "# Bag of Words representation of our text data\n",
        "\n",
        "from sklearn.feature_extraction.text import CountVectorizer\n",
        "\n",
        "count_vectorizer = CountVectorizer()\n",
        "count_vectorizer.fit([file_contents])"
      ],
      "execution_count": null,
      "outputs": [
        {
          "data": {
            "text/plain": [
              "CountVectorizer(analyzer='word', binary=False, decode_error='strict',\n",
              "                dtype=<class 'numpy.int64'>, encoding='utf-8', input='content',\n",
              "                lowercase=True, max_df=1.0, max_features=None, min_df=1,\n",
              "                ngram_range=(1, 1), preprocessor=None, stop_words=None,\n",
              "                strip_accents=None, token_pattern='(?u)\\\\b\\\\w\\\\w+\\\\b',\n",
              "                tokenizer=None, vocabulary=None)"
            ]
          },
          "execution_count": 32,
          "metadata": {},
          "output_type": "execute_result"
        }
      ]
    },
    {
      "cell_type": "code",
      "metadata": {
        "colab": {
          "base_uri": "https://localhost:8080/"
        },
        "id": "1l_KSj94wuSM",
        "outputId": "6b0355b4-a422-4313-8620-ef473403c91e"
      },
      "source": [
        "transformed_vector = count_vectorizer.transform(text_array)\n",
        "\n",
        "print(transformed_vector.shape)"
      ],
      "execution_count": null,
      "outputs": [
        {
          "name": "stdout",
          "output_type": "stream",
          "text": [
            "(7, 25)\n"
          ]
        }
      ]
    },
    {
      "cell_type": "code",
      "metadata": {
        "id": "VZwyz-0Pw_dc"
      },
      "source": [
        "feature_names_nltk = count_vectorizer.get_feature_names()"
      ],
      "execution_count": null,
      "outputs": []
    },
    {
      "cell_type": "code",
      "metadata": {
        "colab": {
          "base_uri": "https://localhost:8080/"
        },
        "id": "sLWnSfu-xSTv",
        "outputId": "4a26f8b6-aece-4552-c6bc-ad5666d13e78"
      },
      "source": [
        "count_vectorizer.vocabulary_"
      ],
      "execution_count": null,
      "outputs": [
        {
          "data": {
            "text/plain": [
              "{'1500': 0,\n",
              " 'ball': 1,\n",
              " 'bird': 2,\n",
              " 'bush': 3,\n",
              " 'come': 4,\n",
              " 'cost': 5,\n",
              " 'court': 6,\n",
              " 'doiggle': 7,\n",
              " 'fish': 8,\n",
              " 'goes': 9,\n",
              " 'good': 10,\n",
              " 'hand': 11,\n",
              " 'hower': 12,\n",
              " 'mr': 13,\n",
              " 'sea': 14,\n",
              " 'smith': 15,\n",
              " 'the': 16,\n",
              " 'there': 17,\n",
              " 'these': 18,\n",
              " 'things': 19,\n",
              " 'two': 20,\n",
              " 'wait': 21,\n",
              " 'washigton': 22,\n",
              " 'watches': 23,\n",
              " 'worth': 24}"
            ]
          },
          "execution_count": 35,
          "metadata": {},
          "output_type": "execute_result"
        }
      ]
    },
    {
      "cell_type": "code",
      "metadata": {
        "colab": {
          "base_uri": "https://localhost:8080/"
        },
        "id": "nfr4n45AxWjV",
        "outputId": "43a36aef-2e87-4253-aa86-a7febb0d2e51"
      },
      "source": [
        "print(transformed_vector.toarray())"
      ],
      "execution_count": null,
      "outputs": [
        {
          "name": "stdout",
          "output_type": "stream",
          "text": [
            "[[0 0 1 1 0 0 0 0 0 0 0 1 0 0 0 0 1 0 0 0 1 0 0 0 1]\n",
            " [0 0 0 0 1 0 0 0 0 0 1 0 0 0 0 0 0 0 0 1 0 1 0 0 0]\n",
            " [1 0 0 0 0 1 0 0 0 0 0 0 0 0 0 0 0 0 1 0 0 0 0 1 0]\n",
            " [0 0 0 0 0 0 0 0 1 0 0 0 0 0 1 0 1 1 0 0 0 0 0 0 0]\n",
            " [0 1 0 0 0 0 1 0 0 0 0 0 0 0 0 0 1 0 0 0 0 0 0 0 0]\n",
            " [0 0 0 0 0 0 0 0 0 1 0 0 0 1 0 1 0 0 0 0 0 0 1 0 0]\n",
            " [0 0 0 0 0 0 0 1 0 0 0 0 1 0 0 0 0 0 0 0 0 0 0 0 0]]\n"
          ]
        }
      ]
    },
    {
      "cell_type": "code",
      "metadata": {
        "colab": {
          "base_uri": "https://localhost:8080/"
        },
        "id": "Tku3_S25xnrl",
        "outputId": "4ab32e9a-d6d9-4c06-ac9e-13416a11dfce"
      },
      "source": [
        "count_vectorizer.inverse_transform(transformed_vector)"
      ],
      "execution_count": null,
      "outputs": [
        {
          "data": {
            "text/plain": [
              "[array(['bird', 'bush', 'hand', 'the', 'two', 'worth'], dtype='<U9'),\n",
              " array(['come', 'good', 'things', 'wait'], dtype='<U9'),\n",
              " array(['1500', 'cost', 'these', 'watches'], dtype='<U9'),\n",
              " array(['fish', 'sea', 'the', 'there'], dtype='<U9'),\n",
              " array(['ball', 'court', 'the'], dtype='<U9'),\n",
              " array(['goes', 'mr', 'smith', 'washigton'], dtype='<U9'),\n",
              " array(['doiggle', 'hower'], dtype='<U9')]"
            ]
          },
          "execution_count": 37,
          "metadata": {},
          "output_type": "execute_result"
        }
      ]
    },
    {
      "cell_type": "markdown",
      "metadata": {
        "id": "80aNKCWHyj5c"
      },
      "source": [
        "## **Frequency Filtering**"
      ]
    },
    {
      "cell_type": "code",
      "metadata": {
        "colab": {
          "base_uri": "https://localhost:8080/"
        },
        "id": "T4RtdXnmxtEN",
        "outputId": "2263a033-4ee0-4cd6-e80e-16872f589828"
      },
      "source": [
        "from sklearn.datasets import fetch_20newsgroups\n",
        "\n",
        "newsgropus = fetch_20newsgroups(subset='train')"
      ],
      "execution_count": null,
      "outputs": [
        {
          "name": "stderr",
          "output_type": "stream",
          "text": [
            "Downloading 20news dataset. This may take a few minutes.\n",
            "Downloading dataset from https://ndownloader.figshare.com/files/5975967 (14 MB)\n"
          ]
        }
      ]
    },
    {
      "cell_type": "code",
      "metadata": {
        "colab": {
          "base_uri": "https://localhost:8080/"
        },
        "id": "0ed24IIYy58A",
        "outputId": "2e7a2ad1-3016-4079-d90d-b0793bfef73b"
      },
      "source": [
        "newsgropus.keys()"
      ],
      "execution_count": null,
      "outputs": [
        {
          "data": {
            "text/plain": [
              "dict_keys(['data', 'filenames', 'target_names', 'target', 'DESCR'])"
            ]
          },
          "execution_count": 39,
          "metadata": {},
          "output_type": "execute_result"
        }
      ]
    },
    {
      "cell_type": "code",
      "metadata": {
        "colab": {
          "base_uri": "https://localhost:8080/"
        },
        "id": "GVgKuIdRzLhV",
        "outputId": "648cd12a-e2a5-408c-86ff-729a04b7adc3"
      },
      "source": [
        "newsgropus.target_names"
      ],
      "execution_count": null,
      "outputs": [
        {
          "data": {
            "text/plain": [
              "['alt.atheism',\n",
              " 'comp.graphics',\n",
              " 'comp.os.ms-windows.misc',\n",
              " 'comp.sys.ibm.pc.hardware',\n",
              " 'comp.sys.mac.hardware',\n",
              " 'comp.windows.x',\n",
              " 'misc.forsale',\n",
              " 'rec.autos',\n",
              " 'rec.motorcycles',\n",
              " 'rec.sport.baseball',\n",
              " 'rec.sport.hockey',\n",
              " 'sci.crypt',\n",
              " 'sci.electronics',\n",
              " 'sci.med',\n",
              " 'sci.space',\n",
              " 'soc.religion.christian',\n",
              " 'talk.politics.guns',\n",
              " 'talk.politics.mideast',\n",
              " 'talk.politics.misc',\n",
              " 'talk.religion.misc']"
            ]
          },
          "execution_count": 40,
          "metadata": {},
          "output_type": "execute_result"
        }
      ]
    },
    {
      "cell_type": "code",
      "metadata": {
        "colab": {
          "base_uri": "https://localhost:8080/"
        },
        "id": "CINYI4sCzQpN",
        "outputId": "bcaa3b7a-5055-43c1-8376-4f0159e38f84"
      },
      "source": [
        "count_vectorizer = CountVectorizer()\n",
        "transformed_vector = count_vectorizer.fit_transform(newsgropus.data)\n",
        "\n",
        "transformed_vector.shape"
      ],
      "execution_count": null,
      "outputs": [
        {
          "data": {
            "text/plain": [
              "(11314, 130107)"
            ]
          },
          "execution_count": 41,
          "metadata": {},
          "output_type": "execute_result"
        }
      ]
    },
    {
      "cell_type": "code",
      "metadata": {
        "colab": {
          "base_uri": "https://localhost:8080/"
        },
        "id": "TH1LHpyczhQ1",
        "outputId": "12a976a2-10a6-4291-e204-daaa424d98f3"
      },
      "source": [
        "count_vectorizer = CountVectorizer(min_df = 0.0, max_df = 0.7)\n",
        "transformed_vector = count_vectorizer.fit_transform(newsgropus.data)\n",
        "\n",
        "transformed_vector.shape"
      ],
      "execution_count": null,
      "outputs": [
        {
          "data": {
            "text/plain": [
              "(11314, 130094)"
            ]
          },
          "execution_count": 42,
          "metadata": {},
          "output_type": "execute_result"
        }
      ]
    },
    {
      "cell_type": "code",
      "metadata": {
        "colab": {
          "base_uri": "https://localhost:8080/"
        },
        "id": "JOWqMov3zyC9",
        "outputId": "1fa6d4e3-ee6e-4ba1-f600-4aef129e4e52"
      },
      "source": [
        "count_vectorizer = CountVectorizer(min_df = 2, max_df = 100)\n",
        "transformed_vector = count_vectorizer.fit_transform(newsgropus.data)\n",
        "\n",
        "transformed_vector.shape"
      ],
      "execution_count": null,
      "outputs": [
        {
          "data": {
            "text/plain": [
              "(11314, 54030)"
            ]
          },
          "execution_count": 43,
          "metadata": {},
          "output_type": "execute_result"
        }
      ]
    },
    {
      "cell_type": "markdown",
      "metadata": {
        "id": "o-4bRZar0WMF"
      },
      "source": [
        "## **STEMMING**"
      ]
    },
    {
      "cell_type": "code",
      "metadata": {
        "id": "Pq5FB77l0Mws"
      },
      "source": [
        "from nltk import word_tokenize\n",
        "from nltk.stem import *\n",
        "\n",
        "import pandas as pd"
      ],
      "execution_count": null,
      "outputs": []
    },
    {
      "cell_type": "code",
      "metadata": {
        "id": "-ofApg7N0jAV"
      },
      "source": [
        "input_tokens = ['overwhelming','overwhelmingly','hushed','hush','functional','functionally','lying','lied','fairly','denstabilize','stability','the','these','those']"
      ],
      "execution_count": null,
      "outputs": []
    },
    {
      "cell_type": "code",
      "metadata": {
        "id": "b1Yx14iR1D-c"
      },
      "source": [
        "ps = PorterStemmer()\n",
        "\n",
        "ps_stemmed_tokens = []\n",
        "for token in input_tokens:\n",
        "  ps_stemmed_tokens.append(ps.stem(token))"
      ],
      "execution_count": null,
      "outputs": []
    },
    {
      "cell_type": "code",
      "metadata": {
        "colab": {
          "base_uri": "https://localhost:8080/",
          "height": 483
        },
        "id": "dm1e5a3K1XVk",
        "outputId": "4a6de3e6-41b8-4c28-f925-d19832ac675a"
      },
      "source": [
        "stems_df = pd.DataFrame({\n",
        "    'words' : input_tokens,\n",
        "    'Porter Stemmer' : ps_stemmed_tokens\n",
        "})\n",
        "\n",
        "stems_df"
      ],
      "execution_count": null,
      "outputs": [
        {
          "data": {
            "text/html": [
              "<div>\n",
              "<style scoped>\n",
              "    .dataframe tbody tr th:only-of-type {\n",
              "        vertical-align: middle;\n",
              "    }\n",
              "\n",
              "    .dataframe tbody tr th {\n",
              "        vertical-align: top;\n",
              "    }\n",
              "\n",
              "    .dataframe thead th {\n",
              "        text-align: right;\n",
              "    }\n",
              "</style>\n",
              "<table border=\"1\" class=\"dataframe\">\n",
              "  <thead>\n",
              "    <tr style=\"text-align: right;\">\n",
              "      <th></th>\n",
              "      <th>words</th>\n",
              "      <th>Porter Stemmer</th>\n",
              "    </tr>\n",
              "  </thead>\n",
              "  <tbody>\n",
              "    <tr>\n",
              "      <th>0</th>\n",
              "      <td>overwhelming</td>\n",
              "      <td>overwhelm</td>\n",
              "    </tr>\n",
              "    <tr>\n",
              "      <th>1</th>\n",
              "      <td>overwhelmingly</td>\n",
              "      <td>overwhelmingli</td>\n",
              "    </tr>\n",
              "    <tr>\n",
              "      <th>2</th>\n",
              "      <td>hushed</td>\n",
              "      <td>hush</td>\n",
              "    </tr>\n",
              "    <tr>\n",
              "      <th>3</th>\n",
              "      <td>hush</td>\n",
              "      <td>hush</td>\n",
              "    </tr>\n",
              "    <tr>\n",
              "      <th>4</th>\n",
              "      <td>functional</td>\n",
              "      <td>function</td>\n",
              "    </tr>\n",
              "    <tr>\n",
              "      <th>5</th>\n",
              "      <td>functionally</td>\n",
              "      <td>function</td>\n",
              "    </tr>\n",
              "    <tr>\n",
              "      <th>6</th>\n",
              "      <td>lying</td>\n",
              "      <td>lie</td>\n",
              "    </tr>\n",
              "    <tr>\n",
              "      <th>7</th>\n",
              "      <td>lied</td>\n",
              "      <td>lie</td>\n",
              "    </tr>\n",
              "    <tr>\n",
              "      <th>8</th>\n",
              "      <td>fairly</td>\n",
              "      <td>fairli</td>\n",
              "    </tr>\n",
              "    <tr>\n",
              "      <th>9</th>\n",
              "      <td>denstabilize</td>\n",
              "      <td>denstabil</td>\n",
              "    </tr>\n",
              "    <tr>\n",
              "      <th>10</th>\n",
              "      <td>stability</td>\n",
              "      <td>stabil</td>\n",
              "    </tr>\n",
              "    <tr>\n",
              "      <th>11</th>\n",
              "      <td>the</td>\n",
              "      <td>the</td>\n",
              "    </tr>\n",
              "    <tr>\n",
              "      <th>12</th>\n",
              "      <td>these</td>\n",
              "      <td>these</td>\n",
              "    </tr>\n",
              "    <tr>\n",
              "      <th>13</th>\n",
              "      <td>those</td>\n",
              "      <td>those</td>\n",
              "    </tr>\n",
              "  </tbody>\n",
              "</table>\n",
              "</div>"
            ],
            "text/plain": [
              "             words  Porter Stemmer\n",
              "0     overwhelming       overwhelm\n",
              "1   overwhelmingly  overwhelmingli\n",
              "2           hushed            hush\n",
              "3             hush            hush\n",
              "4       functional        function\n",
              "5     functionally        function\n",
              "6            lying             lie\n",
              "7             lied             lie\n",
              "8           fairly          fairli\n",
              "9     denstabilize       denstabil\n",
              "10       stability          stabil\n",
              "11             the             the\n",
              "12           these           these\n",
              "13           those           those"
            ]
          },
          "execution_count": 47,
          "metadata": {},
          "output_type": "execute_result"
        }
      ]
    },
    {
      "cell_type": "code",
      "metadata": {
        "colab": {
          "base_uri": "https://localhost:8080/",
          "height": 483
        },
        "id": "jHYwE8v61kQv",
        "outputId": "dacac762-71cb-4e82-f431-605543825827"
      },
      "source": [
        "ls = LancasterStemmer()\n",
        "\n",
        "ls_stemmed_tokens = []\n",
        "for token in input_tokens:\n",
        "  ls_stemmed_tokens.append(ls.stem(token))\n",
        "\n",
        "stems_df_ls = pd.DataFrame({\n",
        "  'words' : input_tokens,\n",
        "  'Lancaster Stemmer' : ls_stemmed_tokens\n",
        "})\n",
        "\n",
        "stems_df_ls"
      ],
      "execution_count": null,
      "outputs": [
        {
          "data": {
            "text/html": [
              "<div>\n",
              "<style scoped>\n",
              "    .dataframe tbody tr th:only-of-type {\n",
              "        vertical-align: middle;\n",
              "    }\n",
              "\n",
              "    .dataframe tbody tr th {\n",
              "        vertical-align: top;\n",
              "    }\n",
              "\n",
              "    .dataframe thead th {\n",
              "        text-align: right;\n",
              "    }\n",
              "</style>\n",
              "<table border=\"1\" class=\"dataframe\">\n",
              "  <thead>\n",
              "    <tr style=\"text-align: right;\">\n",
              "      <th></th>\n",
              "      <th>words</th>\n",
              "      <th>Lancaster Stemmer</th>\n",
              "    </tr>\n",
              "  </thead>\n",
              "  <tbody>\n",
              "    <tr>\n",
              "      <th>0</th>\n",
              "      <td>overwhelming</td>\n",
              "      <td>overwhelm</td>\n",
              "    </tr>\n",
              "    <tr>\n",
              "      <th>1</th>\n",
              "      <td>overwhelmingly</td>\n",
              "      <td>overwhelm</td>\n",
              "    </tr>\n",
              "    <tr>\n",
              "      <th>2</th>\n",
              "      <td>hushed</td>\n",
              "      <td>hush</td>\n",
              "    </tr>\n",
              "    <tr>\n",
              "      <th>3</th>\n",
              "      <td>hush</td>\n",
              "      <td>hush</td>\n",
              "    </tr>\n",
              "    <tr>\n",
              "      <th>4</th>\n",
              "      <td>functional</td>\n",
              "      <td>funct</td>\n",
              "    </tr>\n",
              "    <tr>\n",
              "      <th>5</th>\n",
              "      <td>functionally</td>\n",
              "      <td>funct</td>\n",
              "    </tr>\n",
              "    <tr>\n",
              "      <th>6</th>\n",
              "      <td>lying</td>\n",
              "      <td>lying</td>\n",
              "    </tr>\n",
              "    <tr>\n",
              "      <th>7</th>\n",
              "      <td>lied</td>\n",
              "      <td>lied</td>\n",
              "    </tr>\n",
              "    <tr>\n",
              "      <th>8</th>\n",
              "      <td>fairly</td>\n",
              "      <td>fair</td>\n",
              "    </tr>\n",
              "    <tr>\n",
              "      <th>9</th>\n",
              "      <td>denstabilize</td>\n",
              "      <td>denst</td>\n",
              "    </tr>\n",
              "    <tr>\n",
              "      <th>10</th>\n",
              "      <td>stability</td>\n",
              "      <td>stabl</td>\n",
              "    </tr>\n",
              "    <tr>\n",
              "      <th>11</th>\n",
              "      <td>the</td>\n",
              "      <td>the</td>\n",
              "    </tr>\n",
              "    <tr>\n",
              "      <th>12</th>\n",
              "      <td>these</td>\n",
              "      <td>thes</td>\n",
              "    </tr>\n",
              "    <tr>\n",
              "      <th>13</th>\n",
              "      <td>those</td>\n",
              "      <td>thos</td>\n",
              "    </tr>\n",
              "  </tbody>\n",
              "</table>\n",
              "</div>"
            ],
            "text/plain": [
              "             words Lancaster Stemmer\n",
              "0     overwhelming         overwhelm\n",
              "1   overwhelmingly         overwhelm\n",
              "2           hushed              hush\n",
              "3             hush              hush\n",
              "4       functional             funct\n",
              "5     functionally             funct\n",
              "6            lying             lying\n",
              "7             lied              lied\n",
              "8           fairly              fair\n",
              "9     denstabilize             denst\n",
              "10       stability             stabl\n",
              "11             the               the\n",
              "12           these              thes\n",
              "13           those              thos"
            ]
          },
          "execution_count": 48,
          "metadata": {},
          "output_type": "execute_result"
        }
      ]
    },
    {
      "cell_type": "markdown",
      "metadata": {
        "id": "j36sY1on3IsB"
      },
      "source": [
        "## **Lemmatization**"
      ]
    },
    {
      "cell_type": "code",
      "metadata": {
        "colab": {
          "base_uri": "https://localhost:8080/"
        },
        "id": "c9FzXBXZ2BZ4",
        "outputId": "52ddf967-d099-4237-fa9f-bf632e5f549c"
      },
      "source": [
        "from nltk.stem import PorterStemmer\n",
        "\n",
        "stemmer = PorterStemmer()\n",
        "print(stemmer.stem('definitions'))"
      ],
      "execution_count": null,
      "outputs": [
        {
          "name": "stdout",
          "output_type": "stream",
          "text": [
            "definit\n"
          ]
        }
      ]
    },
    {
      "cell_type": "code",
      "metadata": {
        "colab": {
          "base_uri": "https://localhost:8080/"
        },
        "id": "McxJUAM-3Z_l",
        "outputId": "f3bba8b4-f0c8-4d7c-93c2-6a0ac6e4682f"
      },
      "source": [
        "nltk.download('wordnet')"
      ],
      "execution_count": null,
      "outputs": [
        {
          "name": "stdout",
          "output_type": "stream",
          "text": [
            "[nltk_data] Downloading package wordnet to /root/nltk_data...\n",
            "[nltk_data]   Unzipping corpora/wordnet.zip.\n"
          ]
        },
        {
          "data": {
            "text/plain": [
              "True"
            ]
          },
          "execution_count": 50,
          "metadata": {},
          "output_type": "execute_result"
        }
      ]
    },
    {
      "cell_type": "code",
      "metadata": {
        "colab": {
          "base_uri": "https://localhost:8080/"
        },
        "id": "P8rm3FNE3m_L",
        "outputId": "f2fe7887-32b8-45b8-ddcb-4b68cd8e24c6"
      },
      "source": [
        "from nltk.stem import WordNetLemmatizer\n",
        "\n",
        "wml = WordNetLemmatizer()\n",
        "print(wml.lemmatize('definitions'))"
      ],
      "execution_count": null,
      "outputs": [
        {
          "name": "stdout",
          "output_type": "stream",
          "text": [
            "definition\n"
          ]
        }
      ]
    },
    {
      "cell_type": "markdown",
      "metadata": {
        "id": "4Qh2BiLv4Uys"
      },
      "source": [
        "# **Part Of Speech**"
      ]
    },
    {
      "cell_type": "code",
      "metadata": {
        "colab": {
          "base_uri": "https://localhost:8080/"
        },
        "id": "rL_7M0Ga35tS",
        "outputId": "739d0364-3df2-4c6e-8a72-bd0f1b9fe436"
      },
      "source": [
        "nltk.download('tagsets')"
      ],
      "execution_count": null,
      "outputs": [
        {
          "name": "stdout",
          "output_type": "stream",
          "text": [
            "[nltk_data] Downloading package tagsets to /root/nltk_data...\n",
            "[nltk_data]   Unzipping help/tagsets.zip.\n"
          ]
        },
        {
          "data": {
            "text/plain": [
              "True"
            ]
          },
          "execution_count": 52,
          "metadata": {},
          "output_type": "execute_result"
        }
      ]
    },
    {
      "cell_type": "code",
      "metadata": {
        "colab": {
          "base_uri": "https://localhost:8080/"
        },
        "id": "L_56BZTO4j_2",
        "outputId": "6173cc1e-71cd-4028-c0f9-8d8d739d58d9"
      },
      "source": [
        "nltk.download('averaged_perceptron_tagger')"
      ],
      "execution_count": null,
      "outputs": [
        {
          "name": "stdout",
          "output_type": "stream",
          "text": [
            "[nltk_data] Downloading package averaged_perceptron_tagger to\n",
            "[nltk_data]     /root/nltk_data...\n",
            "[nltk_data]   Unzipping taggers/averaged_perceptron_tagger.zip.\n"
          ]
        },
        {
          "data": {
            "text/plain": [
              "True"
            ]
          },
          "execution_count": 53,
          "metadata": {},
          "output_type": "execute_result"
        }
      ]
    },
    {
      "cell_type": "code",
      "metadata": {
        "id": "APuqg3554u6m"
      },
      "source": [
        "text = \"I refuse to let this refuse get me down\""
      ],
      "execution_count": null,
      "outputs": []
    },
    {
      "cell_type": "code",
      "metadata": {
        "colab": {
          "base_uri": "https://localhost:8080/"
        },
        "id": "uCH3wdMK5Cft",
        "outputId": "65f53879-b89a-4ba9-954e-b58d782496d3"
      },
      "source": [
        "tokenize_words = word_tokenize(text)\n",
        "tagged_words = nltk.pos_tag(tokenize_words)\n",
        "tagged_words"
      ],
      "execution_count": null,
      "outputs": [
        {
          "data": {
            "text/plain": [
              "[('I', 'PRP'),\n",
              " ('refuse', 'VBP'),\n",
              " ('to', 'TO'),\n",
              " ('let', 'VB'),\n",
              " ('this', 'DT'),\n",
              " ('refuse', 'NN'),\n",
              " ('get', 'VB'),\n",
              " ('me', 'PRP'),\n",
              " ('down', 'RP')]"
            ]
          },
          "execution_count": 55,
          "metadata": {},
          "output_type": "execute_result"
        }
      ]
    },
    {
      "cell_type": "code",
      "metadata": {
        "id": "Ma_mvR9J5Rcq"
      },
      "source": [
        " "
      ],
      "execution_count": null,
      "outputs": []
    },
    {
      "cell_type": "markdown",
      "metadata": {
        "id": "i2c0rblc94Tm"
      },
      "source": [
        "## **HASHING**"
      ]
    },
    {
      "cell_type": "code",
      "metadata": {
        "id": "gOiSJUOL-sOF"
      },
      "source": [
        "from sklearn.feature_extraction import FeatureHasher"
      ],
      "execution_count": null,
      "outputs": []
    },
    {
      "cell_type": "code",
      "metadata": {
        "colab": {
          "base_uri": "https://localhost:8080/"
        },
        "id": "IYLWa-gj-0bl",
        "outputId": "658214a5-3599-4feb-abd4-e2119271ef7b"
      },
      "source": [
        "text_array"
      ],
      "execution_count": null,
      "outputs": [
        {
          "data": {
            "text/plain": [
              "['A bird in hand is worth two in the bush.',\n",
              " 'Good things come to those who wait.',\n",
              " 'These watches cost $1500!',\n",
              " 'There are other fish in the sea.',\n",
              " 'The ball is in your court.',\n",
              " 'Mr. Smith goes to Washigton.',\n",
              " 'Doiggle Hower M.C.']"
            ]
          },
          "execution_count": 57,
          "metadata": {},
          "output_type": "execute_result"
        }
      ]
    },
    {
      "cell_type": "code",
      "metadata": {
        "colab": {
          "base_uri": "https://localhost:8080/"
        },
        "id": "guuxPrrn_QTl",
        "outputId": "140134d8-cca7-42bb-d707-e643e5247957"
      },
      "source": [
        "hasher = FeatureHasher(n_features=16, input_type='string')\n",
        "hashed_features = hasher.fit_transform(text_array)\n",
        "\n",
        "hashed_features.shape"
      ],
      "execution_count": null,
      "outputs": [
        {
          "data": {
            "text/plain": [
              "(7, 16)"
            ]
          },
          "execution_count": 58,
          "metadata": {},
          "output_type": "execute_result"
        }
      ]
    },
    {
      "cell_type": "code",
      "metadata": {
        "colab": {
          "base_uri": "https://localhost:8080/"
        },
        "id": "rmDJWzc4_dx9",
        "outputId": "4ab54c3f-9854-4a34-8621-b32bc68da09f"
      },
      "source": [
        "hashed_features.toarray()"
      ],
      "execution_count": null,
      "outputs": [
        {
          "data": {
            "text/plain": [
              "array([[ 1.,  0.,  1.,  1., -3., -4.,  0.,  1.,  9.,  0.,  0.,  0.,  0.,\n",
              "        -7.,  1., -2.],\n",
              "       [ 0., -3.,  1.,  3., -1., -2.,  0.,  2.,  6.,  1., -1.,  0.,  1.,\n",
              "        -4.,  0., -2.],\n",
              "       [ 0., -5.,  1., -1.,  2.,  1.,  0.,  3.,  3.,  0.,  0.,  0.,  0.,\n",
              "        -4.,  0., -3.],\n",
              "       [ 0.,  3.,  2., -1., -1., -2.,  0.,  6.,  6.,  0.,  0.,  1.,  0.,\n",
              "        -6.,  0., -2.],\n",
              "       [ 2.,  1.,  1.,  1., -1., -2.,  1.,  1.,  5.,  0.,  0.,  0.,  2.,\n",
              "        -4.,  0., -1.],\n",
              "       [-1.,  1.,  1.,  0., -1., -2.,  0.,  1.,  4.,  0., -1.,  0.,  0.,\n",
              "        -4.,  0., -2.],\n",
              "       [ 0.,  0.,  0.,  2.,  0., -2.,  1.,  2.,  2.,  1., -1.,  0.,  1.,\n",
              "        -2.,  0.,  0.]])"
            ]
          },
          "execution_count": 59,
          "metadata": {},
          "output_type": "execute_result"
        }
      ]
    },
    {
      "cell_type": "markdown",
      "metadata": {
        "id": "KcmO6vKnABVc"
      },
      "source": [
        "## **Vectorizing Text Data and Dimensonality reduction**\n",
        "\n"
      ]
    },
    {
      "cell_type": "code",
      "metadata": {
        "colab": {
          "base_uri": "https://localhost:8080/"
        },
        "id": "6GitG_Al_q82",
        "outputId": "a8a1aeec-248b-4a36-98d4-3566e763cb5b"
      },
      "source": [
        "from sklearn.feature_extraction.text import CountVectorizer\n",
        "\n",
        "text_array"
      ],
      "execution_count": null,
      "outputs": [
        {
          "data": {
            "text/plain": [
              "['A bird in hand is worth two in the bush.',\n",
              " 'Good things come to those who wait.',\n",
              " 'These watches cost $1500!',\n",
              " 'There are other fish in the sea.',\n",
              " 'The ball is in your court.',\n",
              " 'Mr. Smith goes to Washigton.',\n",
              " 'Doiggle Hower M.C.']"
            ]
          },
          "execution_count": 60,
          "metadata": {},
          "output_type": "execute_result"
        }
      ]
    },
    {
      "cell_type": "code",
      "metadata": {
        "colab": {
          "base_uri": "https://localhost:8080/"
        },
        "id": "4yLjq_K7AT4d",
        "outputId": "b1f4e3a1-5012-4d06-c518-f2a8cf6d93cd"
      },
      "source": [
        "count_vectorizer = CountVectorizer()\n",
        "feature_vector = count_vectorizer.fit_transform(text_array)\n",
        "\n",
        "feature_vector.shape"
      ],
      "execution_count": null,
      "outputs": [
        {
          "data": {
            "text/plain": [
              "(7, 33)"
            ]
          },
          "execution_count": 61,
          "metadata": {},
          "output_type": "execute_result"
        }
      ]
    },
    {
      "cell_type": "code",
      "metadata": {
        "colab": {
          "base_uri": "https://localhost:8080/"
        },
        "id": "2QqiqGurAisl",
        "outputId": "431ef54f-4cbf-463a-ff79-0eeea3bdf749"
      },
      "source": [
        "analyzer = count_vectorizer.build_analyzer()\n",
        "\n",
        "word_tokens = analyzer(text_array[0])\n",
        "\n",
        "word_tokens"
      ],
      "execution_count": null,
      "outputs": [
        {
          "data": {
            "text/plain": [
              "['bird', 'in', 'hand', 'is', 'worth', 'two', 'in', 'the', 'bush']"
            ]
          },
          "execution_count": 62,
          "metadata": {},
          "output_type": "execute_result"
        }
      ]
    },
    {
      "cell_type": "code",
      "metadata": {
        "id": "EQeQz3UzA89N"
      },
      "source": [
        "frequency_list = []\n",
        "\n",
        "for i, text in enumerate(text_array):\n",
        "  tokens = analyzer(text)\n",
        "\n",
        "  word_frequency = {}\n",
        "\n",
        "  for token in tokens:\n",
        "    word_idx = count_vectorizer.vocabulary_[token]\n",
        "\n",
        "    word_frequency[token] = feature_vector[i, word_idx]\n",
        "\n",
        "  frequency_list.append(word_frequency)"
      ],
      "execution_count": null,
      "outputs": []
    },
    {
      "cell_type": "code",
      "metadata": {
        "colab": {
          "base_uri": "https://localhost:8080/"
        },
        "id": "GQ9gpW3-BmSe",
        "outputId": "e722ef55-2da3-42a3-f98f-089ec5d63f65"
      },
      "source": [
        "frequency_list"
      ],
      "execution_count": null,
      "outputs": [
        {
          "data": {
            "text/plain": [
              "[{'bird': 1,\n",
              "  'bush': 1,\n",
              "  'hand': 1,\n",
              "  'in': 2,\n",
              "  'is': 1,\n",
              "  'the': 1,\n",
              "  'two': 1,\n",
              "  'worth': 1},\n",
              " {'come': 1, 'good': 1, 'things': 1, 'those': 1, 'to': 1, 'wait': 1, 'who': 1},\n",
              " {'1500': 1, 'cost': 1, 'these': 1, 'watches': 1},\n",
              " {'are': 1, 'fish': 1, 'in': 1, 'other': 1, 'sea': 1, 'the': 1, 'there': 1},\n",
              " {'ball': 1, 'court': 1, 'in': 1, 'is': 1, 'the': 1, 'your': 1},\n",
              " {'goes': 1, 'mr': 1, 'smith': 1, 'to': 1, 'washigton': 1},\n",
              " {'doiggle': 1, 'hower': 1}]"
            ]
          },
          "execution_count": 64,
          "metadata": {},
          "output_type": "execute_result"
        }
      ]
    },
    {
      "cell_type": "code",
      "metadata": {
        "colab": {
          "base_uri": "https://localhost:8080/"
        },
        "id": "P-zp_z3EB106",
        "outputId": "81e1240e-de34-4177-af44-ae5deb5c86e0"
      },
      "source": [
        "hasher = FeatureHasher(n_features=8, input_type='string')\n",
        "hashed_features = hasher.fit_transform(frequency_list)\n",
        "\n",
        "hashed_features.shape"
      ],
      "execution_count": null,
      "outputs": [
        {
          "data": {
            "text/plain": [
              "(7, 8)"
            ]
          },
          "execution_count": 65,
          "metadata": {},
          "output_type": "execute_result"
        }
      ]
    },
    {
      "cell_type": "code",
      "metadata": {
        "colab": {
          "base_uri": "https://localhost:8080/"
        },
        "id": "JSIhMbNbCPla",
        "outputId": "411af1a9-6281-4aab-c84c-c5b53fef5f7a"
      },
      "source": [
        "from sklearn.feature_extraction.text import HashingVectorizer\n",
        "\n",
        "hasher = FeatureHasher(n_features=8, input_type='string')\n",
        "hashed_features = hasher.fit_transform(text_array)\n",
        "\n",
        "hashed_features.shape"
      ],
      "execution_count": null,
      "outputs": [
        {
          "data": {
            "text/plain": [
              "(7, 8)"
            ]
          },
          "execution_count": 66,
          "metadata": {},
          "output_type": "execute_result"
        }
      ]
    },
    {
      "cell_type": "markdown",
      "metadata": {
        "id": "kXbiTX8eDAxy"
      },
      "source": [
        "## **Locality Sensetive hashing**"
      ]
    },
    {
      "cell_type": "code",
      "metadata": {
        "colab": {
          "base_uri": "https://localhost:8080/"
        },
        "id": "3cbAl0vJCnTF",
        "outputId": "4a80f286-09bc-4060-8360-f840f71ab7fa"
      },
      "source": [
        "!pip install datasketch"
      ],
      "execution_count": null,
      "outputs": [
        {
          "name": "stdout",
          "output_type": "stream",
          "text": [
            "Collecting datasketch\n",
            "  Downloading datasketch-1.5.3-py2.py3-none-any.whl (67 kB)\n",
            "\u001b[?25l\r\u001b[K     |████▉                           | 10 kB 15.9 MB/s eta 0:00:01\r\u001b[K     |█████████▊                      | 20 kB 7.6 MB/s eta 0:00:01\r\u001b[K     |██████████████▋                 | 30 kB 10.3 MB/s eta 0:00:01\r\u001b[K     |███████████████████▌            | 40 kB 9.7 MB/s eta 0:00:01\r\u001b[K     |████████████████████████▎       | 51 kB 4.9 MB/s eta 0:00:01\r\u001b[K     |█████████████████████████████▏  | 61 kB 5.7 MB/s eta 0:00:01\r\u001b[K     |████████████████████████████████| 67 kB 3.0 MB/s \n",
            "\u001b[?25hRequirement already satisfied: numpy>=1.11 in /usr/local/lib/python3.7/dist-packages (from datasketch) (1.19.5)\n",
            "Installing collected packages: datasketch\n",
            "Successfully installed datasketch-1.5.3\n"
          ]
        }
      ]
    },
    {
      "cell_type": "code",
      "metadata": {
        "id": "k5vj1Ex1EZKG"
      },
      "source": [
        "from datasketch import MinHash, MinHashLSH\n",
        "\n",
        "from nltk import ngrams\n",
        "from nltk import word_tokenize"
      ],
      "execution_count": null,
      "outputs": []
    },
    {
      "cell_type": "code",
      "metadata": {
        "id": "diwvVhSCEnoW"
      },
      "source": [
        "text_array.append('the ball ix in the court le')"
      ],
      "execution_count": null,
      "outputs": []
    },
    {
      "cell_type": "code",
      "metadata": {
        "colab": {
          "base_uri": "https://localhost:8080/"
        },
        "id": "Z2VBt9jJExYl",
        "outputId": "3bc63d86-9a32-4b03-c108-fcd7b4b5c76b"
      },
      "source": [
        "word_token_array = [word_tokenize(text) for text in text_array]\n",
        "word_token_array"
      ],
      "execution_count": null,
      "outputs": [
        {
          "data": {
            "text/plain": [
              "[['A', 'bird', 'in', 'hand', 'is', 'worth', 'two', 'in', 'the', 'bush', '.'],\n",
              " ['Good', 'things', 'come', 'to', 'those', 'who', 'wait', '.'],\n",
              " ['These', 'watches', 'cost', '$', '1500', '!'],\n",
              " ['There', 'are', 'other', 'fish', 'in', 'the', 'sea', '.'],\n",
              " ['The', 'ball', 'is', 'in', 'your', 'court', '.'],\n",
              " ['Mr.', 'Smith', 'goes', 'to', 'Washigton', '.'],\n",
              " ['Doiggle', 'Hower', 'M.C', '.'],\n",
              " ['the', 'ball', 'ix', 'in', 'the', 'court', 'le']]"
            ]
          },
          "execution_count": 70,
          "metadata": {},
          "output_type": "execute_result"
        }
      ]
    },
    {
      "cell_type": "code",
      "metadata": {
        "colab": {
          "base_uri": "https://localhost:8080/"
        },
        "id": "DMsQyJ7lE7hG",
        "outputId": "725ba78e-6a56-415c-9b08-e89a0b8c44d8"
      },
      "source": [
        "for index, word_token in enumerate(word_token_array):\n",
        "  for n_gram in ngrams(word_token, 3):\n",
        "    print(index, n_gram)"
      ],
      "execution_count": null,
      "outputs": [
        {
          "name": "stdout",
          "output_type": "stream",
          "text": [
            "0 ('A', 'bird', 'in')\n",
            "0 ('bird', 'in', 'hand')\n",
            "0 ('in', 'hand', 'is')\n",
            "0 ('hand', 'is', 'worth')\n",
            "0 ('is', 'worth', 'two')\n",
            "0 ('worth', 'two', 'in')\n",
            "0 ('two', 'in', 'the')\n",
            "0 ('in', 'the', 'bush')\n",
            "0 ('the', 'bush', '.')\n",
            "1 ('Good', 'things', 'come')\n",
            "1 ('things', 'come', 'to')\n",
            "1 ('come', 'to', 'those')\n",
            "1 ('to', 'those', 'who')\n",
            "1 ('those', 'who', 'wait')\n",
            "1 ('who', 'wait', '.')\n",
            "2 ('These', 'watches', 'cost')\n",
            "2 ('watches', 'cost', '$')\n",
            "2 ('cost', '$', '1500')\n",
            "2 ('$', '1500', '!')\n",
            "3 ('There', 'are', 'other')\n",
            "3 ('are', 'other', 'fish')\n",
            "3 ('other', 'fish', 'in')\n",
            "3 ('fish', 'in', 'the')\n",
            "3 ('in', 'the', 'sea')\n",
            "3 ('the', 'sea', '.')\n",
            "4 ('The', 'ball', 'is')\n",
            "4 ('ball', 'is', 'in')\n",
            "4 ('is', 'in', 'your')\n",
            "4 ('in', 'your', 'court')\n",
            "4 ('your', 'court', '.')\n",
            "5 ('Mr.', 'Smith', 'goes')\n",
            "5 ('Smith', 'goes', 'to')\n",
            "5 ('goes', 'to', 'Washigton')\n",
            "5 ('to', 'Washigton', '.')\n",
            "6 ('Doiggle', 'Hower', 'M.C')\n",
            "6 ('Hower', 'M.C', '.')\n",
            "7 ('the', 'ball', 'ix')\n",
            "7 ('ball', 'ix', 'in')\n",
            "7 ('ix', 'in', 'the')\n",
            "7 ('in', 'the', 'court')\n",
            "7 ('the', 'court', 'le')\n"
          ]
        }
      ]
    },
    {
      "cell_type": "code",
      "metadata": {
        "id": "bLuOd3sqFQZu"
      },
      "source": [
        "min_hash_lsh = MinHashLSH(threshold = 0.5, num_perm=128)"
      ],
      "execution_count": null,
      "outputs": []
    },
    {
      "cell_type": "code",
      "metadata": {
        "id": "jEtEWNTnFme-"
      },
      "source": [
        "min_hashes = {}\n",
        "\n",
        "for index, text in enumerate(text_array):\n",
        "  min_hash = MinHash(num_perm=128)\n",
        "\n",
        "  for n_gram in ngrams(text, 3):\n",
        "    min_hash.update(\"\".join(n_gram).encode('utf-8'))\n",
        "\n",
        "  min_hash_lsh.insert(index, min_hash)\n",
        "  min_hashes[index] = min_hash "
      ],
      "execution_count": null,
      "outputs": []
    },
    {
      "cell_type": "code",
      "metadata": {
        "colab": {
          "base_uri": "https://localhost:8080/"
        },
        "id": "ur5t2EF4GIQa",
        "outputId": "2646d7ac-e6b3-4a6a-81fc-0e7ec6a949a9"
      },
      "source": [
        "min_hashes"
      ],
      "execution_count": null,
      "outputs": [
        {
          "data": {
            "text/plain": [
              "{0: <datasketch.minhash.MinHash at 0x7fab709bfc50>,\n",
              " 1: <datasketch.minhash.MinHash at 0x7fab70878b10>,\n",
              " 2: <datasketch.minhash.MinHash at 0x7fab70878ed0>,\n",
              " 3: <datasketch.minhash.MinHash at 0x7fab70878050>,\n",
              " 4: <datasketch.minhash.MinHash at 0x7fab69c8e590>,\n",
              " 5: <datasketch.minhash.MinHash at 0x7fab7176a310>,\n",
              " 6: <datasketch.minhash.MinHash at 0x7fab70878b90>,\n",
              " 7: <datasketch.minhash.MinHash at 0x7fab708b9f50>}"
            ]
          },
          "execution_count": 74,
          "metadata": {},
          "output_type": "execute_result"
        }
      ]
    },
    {
      "cell_type": "code",
      "metadata": {
        "colab": {
          "base_uri": "https://localhost:8080/"
        },
        "id": "9CxJL44OGX2t",
        "outputId": "e94aeefb-3570-4a4d-c1df-7c6d66b27415"
      },
      "source": [
        "for i in min_hashes.keys():\n",
        "  result = min_hash_lsh.query(min_hashes[i])\n",
        "  print(\"candiadte paired with jaccard similarity > 0.5 for input\", i, \":\", result)"
      ],
      "execution_count": null,
      "outputs": [
        {
          "name": "stdout",
          "output_type": "stream",
          "text": [
            "candiadte paired with jaccard similarity > 0.5 for input 0 : [0]\n",
            "candiadte paired with jaccard similarity > 0.5 for input 1 : [1]\n",
            "candiadte paired with jaccard similarity > 0.5 for input 2 : [2]\n",
            "candiadte paired with jaccard similarity > 0.5 for input 3 : [3]\n",
            "candiadte paired with jaccard similarity > 0.5 for input 4 : [4]\n",
            "candiadte paired with jaccard similarity > 0.5 for input 5 : [5]\n",
            "candiadte paired with jaccard similarity > 0.5 for input 6 : [6]\n",
            "candiadte paired with jaccard similarity > 0.5 for input 7 : [7]\n"
          ]
        }
      ]
    },
    {
      "cell_type": "markdown",
      "metadata": {
        "id": "NEEyiPAzczpP"
      },
      "source": [
        "## **HashingVectorize_NaiveBayesClassifier**"
      ]
    },
    {
      "cell_type": "code",
      "metadata": {
        "colab": {
          "base_uri": "https://localhost:8080/",
          "height": 333
        },
        "id": "qljSEvLrG031",
        "outputId": "29419951-07cf-446b-e829-9f9381816bac"
      },
      "source": [
        "import pandas as pandas\n",
        "import numpy as np\n",
        "\n",
        "from sklearn.model_selection import train_test_split\n",
        "from sklearn.metrics import accuracy_score\n",
        "from sklearn.metrics import precision_score\n",
        "from sklearn.metrics import recall_score\n",
        "from sklearn.feature_extraction.text import HashingVectorizer\n",
        "from sklearn.naive_bayes import Gauss"
      ],
      "execution_count": null,
      "outputs": [
        {
          "ename": "ImportError",
          "evalue": "ignored",
          "output_type": "error",
          "traceback": [
            "\u001b[0;31m---------------------------------------------------------------------------\u001b[0m",
            "\u001b[0;31mImportError\u001b[0m                               Traceback (most recent call last)",
            "\u001b[0;32m<ipython-input-2-cf47589881e0>\u001b[0m in \u001b[0;36m<module>\u001b[0;34m()\u001b[0m\n\u001b[1;32m      7\u001b[0m \u001b[0;32mfrom\u001b[0m \u001b[0msklearn\u001b[0m\u001b[0;34m.\u001b[0m\u001b[0mmetrics\u001b[0m \u001b[0;32mimport\u001b[0m \u001b[0mrecall_score\u001b[0m\u001b[0;34m\u001b[0m\u001b[0;34m\u001b[0m\u001b[0m\n\u001b[1;32m      8\u001b[0m \u001b[0;32mfrom\u001b[0m \u001b[0msklearn\u001b[0m\u001b[0;34m.\u001b[0m\u001b[0mfeature_extraction\u001b[0m\u001b[0;34m.\u001b[0m\u001b[0mtext\u001b[0m \u001b[0;32mimport\u001b[0m \u001b[0mHashingVectorizer\u001b[0m\u001b[0;34m\u001b[0m\u001b[0;34m\u001b[0m\u001b[0m\n\u001b[0;32m----> 9\u001b[0;31m \u001b[0;32mfrom\u001b[0m \u001b[0msklearn\u001b[0m\u001b[0;34m.\u001b[0m\u001b[0mnaive_bayes\u001b[0m \u001b[0;32mimport\u001b[0m \u001b[0mGauss\u001b[0m\u001b[0;34m\u001b[0m\u001b[0;34m\u001b[0m\u001b[0m\n\u001b[0m",
            "\u001b[0;31mImportError\u001b[0m: cannot import name 'Gauss' from 'sklearn.naive_bayes' (/usr/local/lib/python3.7/dist-packages/sklearn/naive_bayes.py)",
            "",
            "\u001b[0;31m---------------------------------------------------------------------------\u001b[0;32m\nNOTE: If your import is failing due to a missing package, you can\nmanually install dependencies using either !pip or !apt.\n\nTo view examples of installing some common dependencies, click the\n\"Open Examples\" button below.\n\u001b[0;31m---------------------------------------------------------------------------\u001b[0m\n"
          ]
        }
      ]
    },
    {
      "cell_type": "code",
      "metadata": {
        "colab": {
          "background_save": true,
          "resources": {
            "http://localhost:8080/nbextensions/google.colab/files.js": {
              "data": "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",
              "headers": [
                [
                  "content-type",
                  "application/javascript"
                ]
              ],
              "ok": true,
              "status": 200,
              "status_text": ""
            }
          },
          "base_uri": "https://localhost:8080/",
          "height": 72
        },
        "id": "aQ0cT9XLa0Sj",
        "outputId": "55749205-cc8a-435e-b620-06bb454ca2aa"
      },
      "source": [
        "from google.colab import files\n",
        "uploaded = files.upload()"
      ],
      "execution_count": null,
      "outputs": [
        {
          "data": {
            "text/html": [
              "\n",
              "     <input type=\"file\" id=\"files-050252bc-7bb9-477e-bef3-2544832d89e8\" name=\"files[]\" multiple disabled\n",
              "        style=\"border:none\" />\n",
              "     <output id=\"result-050252bc-7bb9-477e-bef3-2544832d89e8\">\n",
              "      Upload widget is only available when the cell has been executed in the\n",
              "      current browser session. Please rerun this cell to enable.\n",
              "      </output>\n",
              "      <script src=\"/nbextensions/google.colab/files.js\"></script> "
            ],
            "text/plain": [
              "<IPython.core.display.HTML object>"
            ]
          },
          "metadata": {},
          "output_type": "display_data"
        },
        {
          "name": "stdout",
          "output_type": "stream",
          "text": [
            "Saving test.csv to test (2).csv\n"
          ]
        },
        {
          "ename": "KeyboardInterrupt",
          "evalue": "ignored",
          "output_type": "error",
          "traceback": [
            "\u001b[0;31m---------------------------------------------------------------------------\u001b[0m",
            "\u001b[0;31mKeyboardInterrupt\u001b[0m                         Traceback (most recent call last)",
            "\u001b[0;32m<ipython-input-6-21dc3c638f66>\u001b[0m in \u001b[0;36m<module>\u001b[0;34m()\u001b[0m\n\u001b[1;32m      1\u001b[0m \u001b[0;32mfrom\u001b[0m \u001b[0mgoogle\u001b[0m\u001b[0;34m.\u001b[0m\u001b[0mcolab\u001b[0m \u001b[0;32mimport\u001b[0m \u001b[0mfiles\u001b[0m\u001b[0;34m\u001b[0m\u001b[0;34m\u001b[0m\u001b[0m\n\u001b[0;32m----> 2\u001b[0;31m \u001b[0muploaded\u001b[0m \u001b[0;34m=\u001b[0m \u001b[0mfiles\u001b[0m\u001b[0;34m.\u001b[0m\u001b[0mupload\u001b[0m\u001b[0;34m(\u001b[0m\u001b[0;34m)\u001b[0m\u001b[0;34m\u001b[0m\u001b[0;34m\u001b[0m\u001b[0m\n\u001b[0m",
            "\u001b[0;32m/usr/local/lib/python3.7/dist-packages/google/colab/files.py\u001b[0m in \u001b[0;36mupload\u001b[0;34m()\u001b[0m\n\u001b[1;32m     70\u001b[0m     result = _output.eval_js(\n\u001b[1;32m     71\u001b[0m         'google.colab._files._uploadFilesContinue(\"{output_id}\")'.format(\n\u001b[0;32m---> 72\u001b[0;31m             output_id=output_id))\n\u001b[0m\u001b[1;32m     73\u001b[0m     \u001b[0;32mif\u001b[0m \u001b[0mresult\u001b[0m\u001b[0;34m[\u001b[0m\u001b[0;34m'action'\u001b[0m\u001b[0;34m]\u001b[0m \u001b[0;34m!=\u001b[0m \u001b[0;34m'append'\u001b[0m\u001b[0;34m:\u001b[0m\u001b[0;34m\u001b[0m\u001b[0;34m\u001b[0m\u001b[0m\n\u001b[1;32m     74\u001b[0m       \u001b[0;31m# JS side uses a generator of promises to process all of the files- some\u001b[0m\u001b[0;34m\u001b[0m\u001b[0;34m\u001b[0m\u001b[0;34m\u001b[0m\u001b[0m\n",
            "\u001b[0;32m/usr/local/lib/python3.7/dist-packages/google/colab/output/_js.py\u001b[0m in \u001b[0;36meval_js\u001b[0;34m(script, ignore_result, timeout_sec)\u001b[0m\n\u001b[1;32m     38\u001b[0m   \u001b[0;32mif\u001b[0m \u001b[0mignore_result\u001b[0m\u001b[0;34m:\u001b[0m\u001b[0;34m\u001b[0m\u001b[0;34m\u001b[0m\u001b[0m\n\u001b[1;32m     39\u001b[0m     \u001b[0;32mreturn\u001b[0m\u001b[0;34m\u001b[0m\u001b[0;34m\u001b[0m\u001b[0m\n\u001b[0;32m---> 40\u001b[0;31m   \u001b[0;32mreturn\u001b[0m \u001b[0m_message\u001b[0m\u001b[0;34m.\u001b[0m\u001b[0mread_reply_from_input\u001b[0m\u001b[0;34m(\u001b[0m\u001b[0mrequest_id\u001b[0m\u001b[0;34m,\u001b[0m \u001b[0mtimeout_sec\u001b[0m\u001b[0;34m)\u001b[0m\u001b[0;34m\u001b[0m\u001b[0;34m\u001b[0m\u001b[0m\n\u001b[0m\u001b[1;32m     41\u001b[0m \u001b[0;34m\u001b[0m\u001b[0m\n\u001b[1;32m     42\u001b[0m \u001b[0;34m\u001b[0m\u001b[0m\n",
            "\u001b[0;32m/usr/local/lib/python3.7/dist-packages/google/colab/_message.py\u001b[0m in \u001b[0;36mread_reply_from_input\u001b[0;34m(message_id, timeout_sec)\u001b[0m\n\u001b[1;32m     99\u001b[0m     \u001b[0mreply\u001b[0m \u001b[0;34m=\u001b[0m \u001b[0m_read_next_input_message\u001b[0m\u001b[0;34m(\u001b[0m\u001b[0;34m)\u001b[0m\u001b[0;34m\u001b[0m\u001b[0;34m\u001b[0m\u001b[0m\n\u001b[1;32m    100\u001b[0m     \u001b[0;32mif\u001b[0m \u001b[0mreply\u001b[0m \u001b[0;34m==\u001b[0m \u001b[0m_NOT_READY\u001b[0m \u001b[0;32mor\u001b[0m \u001b[0;32mnot\u001b[0m \u001b[0misinstance\u001b[0m\u001b[0;34m(\u001b[0m\u001b[0mreply\u001b[0m\u001b[0;34m,\u001b[0m \u001b[0mdict\u001b[0m\u001b[0;34m)\u001b[0m\u001b[0;34m:\u001b[0m\u001b[0;34m\u001b[0m\u001b[0;34m\u001b[0m\u001b[0m\n\u001b[0;32m--> 101\u001b[0;31m       \u001b[0mtime\u001b[0m\u001b[0;34m.\u001b[0m\u001b[0msleep\u001b[0m\u001b[0;34m(\u001b[0m\u001b[0;36m0.025\u001b[0m\u001b[0;34m)\u001b[0m\u001b[0;34m\u001b[0m\u001b[0;34m\u001b[0m\u001b[0m\n\u001b[0m\u001b[1;32m    102\u001b[0m       \u001b[0;32mcontinue\u001b[0m\u001b[0;34m\u001b[0m\u001b[0;34m\u001b[0m\u001b[0m\n\u001b[1;32m    103\u001b[0m     if (reply.get('type') == 'colab_reply' and\n",
            "\u001b[0;31mKeyboardInterrupt\u001b[0m: "
          ]
        }
      ]
    },
    {
      "cell_type": "code",
      "metadata": {
        "colab": {
          "background_save": true
        },
        "id": "bSvzYCeWe73P"
      },
      "source": [
        "import io\n",
        "df = pd.read_csv(io.StringIO(uploaded['test.csv'].decode('utf-8')), skiprows = 1, names = ['Label', 'Name', 'Text'])\n",
        "df.head()"
      ],
      "execution_count": null,
      "outputs": []
    },
    {
      "cell_type": "code",
      "metadata": {
        "colab": {
          "background_save": true
        },
        "id": "gzw9PZ6gegPH"
      },
      "source": [
        "df.shape"
      ],
      "execution_count": null,
      "outputs": []
    },
    {
      "cell_type": "code",
      "metadata": {
        "id": "2zOMTiVSYbls"
      },
      "source": [
        "df = df.sample(10000, replace= False)"
      ],
      "execution_count": null,
      "outputs": []
    },
    {
      "cell_type": "code",
      "metadata": {
        "id": "YHMiKcqqYjBa"
      },
      "source": [
        "X = df['Text']\n",
        "Y = df['Label']"
      ],
      "execution_count": null,
      "outputs": []
    },
    {
      "cell_type": "code",
      "metadata": {
        "colab": {
          "base_uri": "https://localhost:8080/"
        },
        "id": "WuRKfBM0YuaJ",
        "outputId": "5f65bd38-e980-4743-8bc4-84135ef15c03"
      },
      "source": [
        "X.head()"
      ],
      "execution_count": null,
      "outputs": [
        {
          "data": {
            "text/plain": [
              "60633     Anomalías eléctricas is a 2010 short animated...\n",
              "55744     Player (stylised PLAYER) is the eleventh stud...\n",
              "35108     The Berzunți River is a tributary of the More...\n",
              "60119     Dillinger is a 1945 gangster film telling the...\n",
              "1356      Hertel Wax is an American company which produ...\n",
              "Name: Text, dtype: object"
            ]
          },
          "execution_count": 85,
          "metadata": {},
          "output_type": "execute_result"
        }
      ]
    },
    {
      "cell_type": "code",
      "metadata": {
        "colab": {
          "base_uri": "https://localhost:8080/"
        },
        "id": "Rp8CgtBcYwHx",
        "outputId": "6bd0b653-66b7-42ef-8115-63689d88bfd6"
      },
      "source": [
        "Y.head()"
      ],
      "execution_count": null,
      "outputs": [
        {
          "data": {
            "text/plain": [
              "60633    13\n",
              "55744    12\n",
              "35108     8\n",
              "60119    13\n",
              "1356      1\n",
              "Name: Label, dtype: int64"
            ]
          },
          "execution_count": 86,
          "metadata": {},
          "output_type": "execute_result"
        }
      ]
    },
    {
      "cell_type": "code",
      "metadata": {
        "id": "osTc9gKEY3ka"
      },
      "source": [
        "def summarize_classification(y_test, y_pred):\n",
        "\n",
        "  acc = accuracy_score(y_test, y_pred, normalize=True)\n",
        "  num_acc = accuracy_score(y_test, y_pred, normalize=False)\n",
        "  prec = precision_score(y_test, y_pred, average='weighted')\n",
        "  recall = recall_score(y_test, y_pred, average=\"weighted\")\n",
        "\n",
        "  print(\"Length of testing data: \", len(y_test))\n",
        "  print(\"accuracy_count: \", num_acc)\n",
        "  print(\"accuracy_score: \", prec)\n",
        "  print(\"oPrecision score: \", prec)\n",
        "  print(\"recall_score: \", recall)"
      ],
      "execution_count": null,
      "outputs": []
    },
    {
      "cell_type": "code",
      "metadata": {
        "colab": {
          "base_uri": "https://localhost:8080/"
        },
        "id": "YgKHGAfdZwQX",
        "outputId": "185b802a-bbb6-44de-f3b6-af3d0cb4a7b3"
      },
      "source": [
        "vectorizer = HashingVectorizer(n_features=2**10, norm='l2')\n",
        "\n",
        "feature_vector = vectorizer.transform(X)\n",
        "\n",
        "feature_vector.shape"
      ],
      "execution_count": null,
      "outputs": [
        {
          "data": {
            "text/plain": [
              "(10000, 1024)"
            ]
          },
          "execution_count": 100,
          "metadata": {},
          "output_type": "execute_result"
        }
      ]
    },
    {
      "cell_type": "code",
      "metadata": {
        "id": "r4B48x5aa0mC"
      },
      "source": [
        "X_dense = feature_vector.todense()"
      ],
      "execution_count": null,
      "outputs": []
    },
    {
      "cell_type": "code",
      "metadata": {
        "id": "PeoN3Gm3bCff"
      },
      "source": [
        "x_train, x_test, y_train, y_test= train_test_split(X_dense, Y, test_size=0.2)"
      ],
      "execution_count": null,
      "outputs": []
    },
    {
      "cell_type": "code",
      "metadata": {
        "id": "1bdOZW-4bO5m"
      },
      "source": [
        "clf = GaussianNB().fit(x_train, y_train)"
      ],
      "execution_count": null,
      "outputs": []
    },
    {
      "cell_type": "code",
      "metadata": {
        "colab": {
          "base_uri": "https://localhost:8080/"
        },
        "id": "R9qHzTTZbnPS",
        "outputId": "ee3a7085-e490-4d4e-c9bf-5be26ccaa79e"
      },
      "source": [
        "y_pred = clf.predict(x_test)\n",
        "y_pred"
      ],
      "execution_count": null,
      "outputs": [
        {
          "data": {
            "text/plain": [
              "array([8, 1, 3, ..., 5, 5, 7])"
            ]
          },
          "execution_count": 104,
          "metadata": {},
          "output_type": "execute_result"
        }
      ]
    },
    {
      "cell_type": "code",
      "metadata": {
        "colab": {
          "base_uri": "https://localhost:8080/"
        },
        "id": "PejnUt90b0gq",
        "outputId": "90c610ea-7517-44fe-b9b2-a1bd1b4f8910"
      },
      "source": [
        "summarize_classification(y_test, y_pred)"
      ],
      "execution_count": null,
      "outputs": [
        {
          "name": "stdout",
          "output_type": "stream",
          "text": [
            "Length of testing data:  2000\n",
            "accuracy_count:  1144\n",
            "accuracy_score:  0.5841193145448108\n",
            "recall_score:  0.572\n"
          ]
        }
      ]
    },
    {
      "cell_type": "markdown",
      "metadata": {
        "id": "VnISthKndBm8"
      },
      "source": [
        "## **Stemmer_HashingVectorize_NaiveBayesClassisfier**"
      ]
    },
    {
      "cell_type": "code",
      "metadata": {
        "id": "58wUdDpcb6wT"
      },
      "source": [
        "from nltk.stem.snowball import SnowballStemmer"
      ],
      "execution_count": null,
      "outputs": []
    },
    {
      "cell_type": "code",
      "metadata": {
        "id": "llU4cbtHdVkD"
      },
      "source": [
        "stemmer = SnowballStemmer('english')\n",
        "analyzer = HashingVectorizer().build_analyzer()"
      ],
      "execution_count": null,
      "outputs": []
    },
    {
      "cell_type": "code",
      "metadata": {
        "id": "n5cLLvlHdkLL"
      },
      "source": [
        "def stemmed_words(doc):\n",
        "  return [stemmer.stem(w) for w in analyzer(doc)]"
      ],
      "execution_count": null,
      "outputs": []
    },
    {
      "cell_type": "code",
      "metadata": {
        "id": "35PGPGgKd3yk"
      },
      "source": [
        "stem_vectorizer = HashingVectorizer(n_features=2**10, norm='l2', analyzer=stemmed_words)\n",
        "feature_vector = stem_vectorizer.transform(X)"
      ],
      "execution_count": null,
      "outputs": []
    },
    {
      "cell_type": "code",
      "metadata": {
        "colab": {
          "base_uri": "https://localhost:8080/"
        },
        "id": "a9IURNVAeISK",
        "outputId": "9bff3fab-8f47-4021-f166-115f32d5e938"
      },
      "source": [
        "X_dense = feature_vector.todense()\n",
        "x_train, x_test, y_train, y_test= train_test_split(X_dense, Y, test_size=0.2)\n",
        "clf = GaussianNB().fit(x_train, y_train)\n",
        "y_pred = clf.predict(x_test)\n",
        "summarize_classification(y_test, y_pred)"
      ],
      "execution_count": null,
      "outputs": [
        {
          "name": "stdout",
          "output_type": "stream",
          "text": [
            "Length of testing data:  2000\n",
            "accuracy_count:  1098\n",
            "accuracy_score:  0.5684109110532525\n",
            "recall_score:  0.549\n"
          ]
        }
      ]
    },
    {
      "cell_type": "markdown",
      "metadata": {
        "id": "bV9zw170eqZH"
      },
      "source": [
        "## **CountVectorizer_NaiveBayesClassifier**"
      ]
    },
    {
      "cell_type": "code",
      "metadata": {
        "id": "EPNf3ctnejE5"
      },
      "source": [
        "count_vectorizer = CountVectorizer()\n",
        "feature_vector = count_vectorizer.fit_transform(X)"
      ],
      "execution_count": null,
      "outputs": []
    },
    {
      "cell_type": "code",
      "metadata": {
        "colab": {
          "base_uri": "https://localhost:8080/"
        },
        "id": "vTcN1MSje5Oq",
        "outputId": "5c1aa267-b91a-4798-af20-547e11cef4bd"
      },
      "source": [
        "X_dense = feature_vector.todense()\n",
        "x_train, x_test, y_train, y_test= train_test_split(X_dense, Y, test_size=0.2)\n",
        "clf = GaussianNB().fit(x_train, y_train)\n",
        "y_pred = clf.predict(x_test)\n",
        "summarize_classification(y_test, y_pred)"
      ],
      "execution_count": null,
      "outputs": [
        {
          "name": "stdout",
          "output_type": "stream",
          "text": [
            "Length of testing data:  2000\n",
            "accuracy_count:  1465\n",
            "accuracy_score:  0.7441069162662086\n",
            "oPrecision score:  0.7441069162662086\n",
            "recall_score:  0.7325\n"
          ]
        }
      ]
    },
    {
      "cell_type": "markdown",
      "metadata": {
        "id": "ug2NcAtyfbNT"
      },
      "source": [
        "## **StopWord_removal_CountVectorizer_NaiveBayesClassifier**"
      ]
    },
    {
      "cell_type": "code",
      "metadata": {
        "id": "UY4HV2p6e-k5"
      },
      "source": [
        "count_vectorizer = CountVectorizer(stop_words='english')\n",
        "feature_vector = count_vectorizer.fit_transform(X)"
      ],
      "execution_count": null,
      "outputs": []
    },
    {
      "cell_type": "code",
      "metadata": {
        "colab": {
          "base_uri": "https://localhost:8080/"
        },
        "id": "2PPPvfNbfpcC",
        "outputId": "385212ad-8680-46dd-8388-9647d8392336"
      },
      "source": [
        "X_dense = feature_vector.todense()\n",
        "x_train, x_test, y_train, y_test= train_test_split(X_dense, Y, test_size=0.2)\n",
        "clf = GaussianNB().fit(x_train, y_train)\n",
        "y_pred = clf.predict(x_test)\n",
        "summarize_classification(y_test, y_pred)"
      ],
      "execution_count": null,
      "outputs": [
        {
          "name": "stdout",
          "output_type": "stream",
          "text": [
            "Length of testing data:  2000\n",
            "accuracy_count:  1470\n",
            "accuracy_score:  0.7469763496088342\n",
            "oPrecision score:  0.7469763496088342\n",
            "recall_score:  0.735\n"
          ]
        }
      ]
    },
    {
      "cell_type": "markdown",
      "metadata": {
        "id": "5QeipYi4f4na"
      },
      "source": [
        "## **StopWordRemoval_FrequencyFiltering_CountVectorizer_NaiveBayesClassifier**"
      ]
    },
    {
      "cell_type": "code",
      "metadata": {
        "id": "P_o-HpkWfqoQ"
      },
      "source": [
        "from nltk.tokenize import word_tokenize\n",
        "from nltk.probability import FreqDist\n",
        "from sklearn.feature_extraction import text"
      ],
      "execution_count": null,
      "outputs": []
    },
    {
      "cell_type": "code",
      "metadata": {
        "id": "j_xGjpPrgMMC"
      },
      "source": [
        "tokens = word_tokenize(\"\\n\".join(X.values))\n"
      ],
      "execution_count": null,
      "outputs": []
    },
    {
      "cell_type": "code",
      "metadata": {
        "id": "FLykkWLngYQC"
      },
      "source": [
        "\n",
        "freq = FreqDist(tokens)"
      ],
      "execution_count": null,
      "outputs": []
    },
    {
      "cell_type": "code",
      "metadata": {
        "colab": {
          "base_uri": "https://localhost:8080/"
        },
        "id": "Z03EOSjvgcVC",
        "outputId": "ec3cce53-b252-4dfa-f099-296d7eb8f388"
      },
      "source": [
        "frequent_words = []\n",
        "\n",
        "for key, value in freq.items():\n",
        "  if value >= 100:\n",
        "    frequency_list.append(key.lower())\n",
        "\n",
        "print(len(frequency_list))"
      ],
      "execution_count": null,
      "outputs": [
        {
          "name": "stdout",
          "output_type": "stream",
          "text": [
            "1963\n"
          ]
        }
      ]
    },
    {
      "cell_type": "code",
      "metadata": {
        "id": "gBDxmQb4gupy"
      },
      "source": [
        "stop_words = text.ENGLISH_STOP_WORDS.union(frequent_words)"
      ],
      "execution_count": null,
      "outputs": []
    },
    {
      "cell_type": "code",
      "metadata": {
        "id": "1y7cUepMhMSD"
      },
      "source": [
        "count_vectorizer = CountVectorizer(stop_words=stop_words)\n",
        "feature_vector = count_vectorizer.fit_transform(X)"
      ],
      "execution_count": null,
      "outputs": []
    },
    {
      "cell_type": "code",
      "metadata": {
        "colab": {
          "base_uri": "https://localhost:8080/"
        },
        "id": "-TCNqbuuhmk6",
        "outputId": "487f06bf-6641-4c9f-822b-65c83c41017d"
      },
      "source": [
        "X_dense = feature_vector.todense()\n",
        "x_train, x_test, y_train, y_test= train_test_split(X_dense, Y, test_size=0.2)\n",
        "clf = GaussianNB().fit(x_train, y_train)\n",
        "y_pred = clf.predict(x_test)\n",
        "summarize_classification(y_test, y_pred)"
      ],
      "execution_count": null,
      "outputs": [
        {
          "name": "stdout",
          "output_type": "stream",
          "text": [
            "Length of testing data:  2000\n",
            "accuracy_count:  1496\n",
            "accuracy_score:  0.7554031577938128\n",
            "oPrecision score:  0.7554031577938128\n",
            "recall_score:  0.748\n"
          ]
        }
      ]
    },
    {
      "cell_type": "markdown",
      "metadata": {
        "id": "686Bmne1hxvf"
      },
      "source": [
        "## **TfIDFVectorize_NaiveBayesClassifier**"
      ]
    },
    {
      "cell_type": "code",
      "metadata": {
        "id": "oM0BnGgyhoK9"
      },
      "source": [
        "from sklearn.feature_extraction.text import TfidfVectorizer"
      ],
      "execution_count": null,
      "outputs": []
    },
    {
      "cell_type": "code",
      "metadata": {
        "id": "lcrp4j-ViAC8"
      },
      "source": [
        "count_vectorizer = TfidfVectorizer()\n",
        "feature_vector = count_vectorizer.fit_transform(X)"
      ],
      "execution_count": null,
      "outputs": []
    },
    {
      "cell_type": "code",
      "metadata": {
        "colab": {
          "base_uri": "https://localhost:8080/"
        },
        "id": "rrF0ORTEiIlz",
        "outputId": "b12f56e7-2974-4410-819a-b22589c2a48a"
      },
      "source": [
        "X_dense = feature_vector.todense()\n",
        "x_train, x_test, y_train, y_test= train_test_split(X_dense, Y, test_size=0.2)\n",
        "clf = GaussianNB().fit(x_train, y_train)\n",
        "y_pred = clf.predict(x_test)\n",
        "summarize_classification(y_test, y_pred)"
      ],
      "execution_count": null,
      "outputs": [
        {
          "name": "stdout",
          "output_type": "stream",
          "text": [
            "Length of testing data:  2000\n",
            "accuracy_count:  1408\n",
            "accuracy_score:  0.7166636116465238\n",
            "oPrecision score:  0.7166636116465238\n",
            "recall_score:  0.704\n"
          ]
        }
      ]
    },
    {
      "cell_type": "markdown",
      "metadata": {
        "id": "h1-HOK_6iX75"
      },
      "source": [
        "## **BiGrams_CountVectorizer_NaiveBayesClassifier**"
      ]
    },
    {
      "cell_type": "code",
      "metadata": {
        "colab": {
          "background_save": true,
          "base_uri": "https://localhost:8080/",
          "height": 180
        },
        "id": "UqEWiUsgiKUh",
        "outputId": "04385348-9fee-4134-b546-311abaa13738"
      },
      "source": [
        "count_vectorizer = CountVectorizer(ngram_range=(2,2))\n",
        "feature_vector = count_vectorizer.fit_transform(X)"
      ],
      "execution_count": null,
      "outputs": [
        {
          "ename": "NameError",
          "evalue": "ignored",
          "output_type": "error",
          "traceback": [
            "\u001b[0;31m---------------------------------------------------------------------------\u001b[0m",
            "\u001b[0;31mNameError\u001b[0m                                 Traceback (most recent call last)",
            "\u001b[0;32m<ipython-input-4-e7031a0357d9>\u001b[0m in \u001b[0;36m<module>\u001b[0;34m()\u001b[0m\n\u001b[0;32m----> 1\u001b[0;31m \u001b[0mcount_vectorizer\u001b[0m \u001b[0;34m=\u001b[0m \u001b[0mCountVectorizer\u001b[0m\u001b[0;34m(\u001b[0m\u001b[0mngram_range\u001b[0m\u001b[0;34m=\u001b[0m\u001b[0;34m(\u001b[0m\u001b[0;36m2\u001b[0m\u001b[0;34m,\u001b[0m\u001b[0;36m2\u001b[0m\u001b[0;34m)\u001b[0m\u001b[0;34m)\u001b[0m\u001b[0;34m\u001b[0m\u001b[0;34m\u001b[0m\u001b[0m\n\u001b[0m\u001b[1;32m      2\u001b[0m \u001b[0mfeature_vector\u001b[0m \u001b[0;34m=\u001b[0m \u001b[0mcount_vectorizer\u001b[0m\u001b[0;34m.\u001b[0m\u001b[0mfit_transform\u001b[0m\u001b[0;34m(\u001b[0m\u001b[0mX\u001b[0m\u001b[0;34m)\u001b[0m\u001b[0;34m\u001b[0m\u001b[0;34m\u001b[0m\u001b[0m\n",
            "\u001b[0;31mNameError\u001b[0m: name 'CountVectorizer' is not defined"
          ]
        }
      ]
    },
    {
      "cell_type": "code",
      "metadata": {
        "id": "IC_93_rCinYS"
      },
      "source": [
        "X_dense = feature_vector.todense()\n",
        "x_train, x_test, y_train, y_test= train_test_split(X_dense, Y, test_size=0.2)\n",
        "clf = GaussianNB().fit(x_train, y_train)\n",
        "y_pred = clf.predict(x_test)\n",
        "summarize_classification(y_test, y_pred)"
      ],
      "execution_count": null,
      "outputs": []
    },
    {
      "cell_type": "code",
      "metadata": {
        "id": "lij7WEgWipd6"
      },
      "source": [
        ""
      ],
      "execution_count": null,
      "outputs": []
    }
  ]
}